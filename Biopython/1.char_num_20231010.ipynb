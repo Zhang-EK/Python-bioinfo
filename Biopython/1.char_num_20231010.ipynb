{
 "cells": [
  {
   "cell_type": "markdown",
   "metadata": {},
   "source": [
    "# python 中的字符串操作"
   ]
  },
  {
   "cell_type": "code",
   "execution_count": null,
   "metadata": {},
   "outputs": [
    {
     "ename": "",
     "evalue": "",
     "output_type": "error",
     "traceback": [
      "\u001b[1;31mRunning cells with 'd:\\python\\python.exe' requires the ipykernel package.\n",
      "\u001b[1;31mRun the following command to install 'ipykernel' into the Python environment. \n",
      "\u001b[1;31mCommand: 'd:/python/python.exe -m pip install ipykernel -U --user --force-reinstall'"
     ]
    }
   ],
   "source": [
    "# 字符串\n",
    "a1 = \"black\"\n",
    "print(a1)\n",
    "\n",
    "# 替换\n",
    "d = a1.replace(\"a\",\"d\")\n",
    "\n",
    "# strip\n",
    "s3 = \" black \"\n",
    "print(s3.strip())\n",
    "\n",
    "s4 = \" bl-ack-\"\n",
    "print(s4.strip(\"-\"))  #只在字符串前后查找\n",
    "\n",
    "# 切片 \n",
    "a3 = \"123456\"\n",
    "print(a3[1])   #python是从0开始数数的\n",
    "print(a3[1:3])"
   ]
  }
 ],
 "metadata": {
  "kernelspec": {
   "display_name": "Python 3",
   "language": "python",
   "name": "python3"
  },
  "language_info": {
   "name": "python",
   "version": "3.12.0"
  }
 },
 "nbformat": 4,
 "nbformat_minor": 2
}
