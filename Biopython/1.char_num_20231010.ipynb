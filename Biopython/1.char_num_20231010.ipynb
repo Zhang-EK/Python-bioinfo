{
 "cells": [
  {
   "cell_type": "markdown",
   "metadata": {},
   "source": [
    "# python 中的字符串操作"
   ]
  },
  {
   "cell_type": "code",
   "execution_count": 1,
   "metadata": {},
   "outputs": [
    {
     "name": "stdout",
     "output_type": "stream",
     "text": [
      "black\n",
      "black\n",
      " bl-ack\n",
      "2\n",
      "23\n"
     ]
    }
   ],
   "source": [
    "# 字符串\n",
    "a1 = \"black\"\n",
    "print(a1)\n",
    "\n",
    "# 替换\n",
    "d = a1.replace(\"a\",\"d\")\n",
    "\n",
    "# strip\n",
    "s3 = \" black \"\n",
    "print(s3.strip())\n",
    "\n",
    "s4 = \" bl-ack-\"\n",
    "print(s4.strip(\"-\"))  #只在字符串前后查找\n",
    "\n",
    "# 切片 \n",
    "a3 = \"123456\"\n",
    "print(a3[1])   #python是从0开始数数的\n",
    "print(a3[1:3])"
   ]
  }
 ],
 "metadata": {
  "kernelspec": {
   "display_name": "Python 3",
   "language": "python",
   "name": "python3"
  },
  "language_info": {
   "codemirror_mode": {
    "name": "ipython",
    "version": 3
   },
   "file_extension": ".py",
   "mimetype": "text/x-python",
   "name": "python",
   "nbconvert_exporter": "python",
   "pygments_lexer": "ipython3",
   "version": "3.10.1"
  }
 },
 "nbformat": 4,
 "nbformat_minor": 2
}
