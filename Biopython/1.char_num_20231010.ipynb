{
 "cells": [
  {
   "cell_type": "markdown",
   "metadata": {},
   "source": [
    "# python 中的字符串操作"
   ]
  },
  {
   "cell_type": "markdown",
   "metadata": {},
   "source": [
    "## 1.1 字符串赋值"
   ]
  },
  {
   "cell_type": "code",
   "execution_count": null,
   "metadata": {},
   "outputs": [],
   "source": [
    "a1 = \"black\"\n",
    "print(a1)"
   ]
  },
  {
   "cell_type": "markdown",
   "metadata": {},
   "source": [
    "## 1.2 字符串操作"
   ]
  },
  {
   "cell_type": "code",
   "execution_count": null,
   "metadata": {},
   "outputs": [],
   "source": [
    "# 替换\n",
    "d = a1.replace(\"a\",\"d\")\n",
    "\n",
    "# strip\n",
    "s3 = \" black \"\n",
    "print(s3.strip())\n",
    "\n",
    "s4 = \" bl-ack-\"\n",
    "print(s4.strip(\"-\"))  #只在字符串前后查找\n",
    "\n",
    "# 切片 \n",
    "a3 = \"123456\"\n",
    "print(a3[1])   #python是从0开始数数的\n",
    "print(a3[1:3])"
   ]
  },
  {
   "cell_type": "markdown",
   "metadata": {},
   "source": [
    "## 1.3 数字"
   ]
  },
  {
   "cell_type": "code",
   "execution_count": null,
   "metadata": {},
   "outputs": [],
   "source": [
    "# 整数与非整数\n",
    "n1 = 12\n",
    "n2 = 12.2"
   ]
  },
  {
   "cell_type": "code",
   "execution_count": null,
   "metadata": {},
   "outputs": [],
   "source": [
    "# 加减乘除\n",
    "1 + 3\n",
    "3 - 1\n",
    "3 * 2\n",
    "3 / 2\n",
    "3 // 2  #整除数\n",
    "3 % 2  #余数"
   ]
  },
  {
   "cell_type": "markdown",
   "metadata": {},
   "source": [
    "## 1.4 列表"
   ]
  },
  {
   "cell_type": "code",
   "execution_count": 17,
   "metadata": {},
   "outputs": [
    {
     "name": "stdout",
     "output_type": "stream",
     "text": [
      "['1', 'red', 2, ['1']]\n"
     ]
    }
   ],
   "source": [
    "l1 = [\"1\", \"red\", 2 , [\"1\"]]\n",
    "print(l1)"
   ]
  },
  {
   "cell_type": "code",
   "execution_count": 18,
   "metadata": {},
   "outputs": [
    {
     "name": "stdout",
     "output_type": "stream",
     "text": [
      "['1', 'red', 2, ['1'], 'aa']\n"
     ]
    }
   ],
   "source": [
    "# 向列表的最后添加内容\n",
    "l1.append(\"aa\")\n",
    "print(l1)"
   ]
  },
  {
   "cell_type": "code",
   "execution_count": 22,
   "metadata": {},
   "outputs": [
    {
     "name": "stdout",
     "output_type": "stream",
     "text": [
      "['1', 'red']\n",
      "2\n",
      "['1']\n"
     ]
    }
   ],
   "source": [
    "# 切片 取头不取尾\n",
    "print(l1[0:2])\n",
    "print(l1[2])\n",
    "print(l1[0:1])"
   ]
  },
  {
   "cell_type": "code",
   "execution_count": 24,
   "metadata": {},
   "outputs": [
    {
     "name": "stdout",
     "output_type": "stream",
     "text": [
      "Hello world\n",
      "Hello- -world\n"
     ]
    }
   ],
   "source": [
    "# join 只能连接字符串\n",
    "l3 = [\"Hello\", \" \", \"world\"]\n",
    "print(\"\".join(l3))\n",
    "print(\"-\".join(l3))"
   ]
  },
  {
   "cell_type": "markdown",
   "metadata": {},
   "source": [
    "## 1.5 字典"
   ]
  },
  {
   "cell_type": "code",
   "execution_count": 27,
   "metadata": {},
   "outputs": [
    {
     "name": "stdout",
     "output_type": "stream",
     "text": [
      "{'七里香': '周杰伦', '黑色毛衣': '周杰伦', '海阔天空': 'Beyond', '美人鱼': '林俊杰'}\n"
     ]
    }
   ],
   "source": [
    "# 字典的赋值与添加值，注意键是唯一的\n",
    "d1 = {\"七里香\":\"周杰伦\", \"黑色毛衣\":\"周杰伦\", \"海阔天空\":\"Beyond\"}\n",
    "d1[\"美人鱼\"] = \"林俊杰\"\n",
    "print(d1)"
   ]
  },
  {
   "cell_type": "code",
   "execution_count": 28,
   "metadata": {},
   "outputs": [
    {
     "name": "stdout",
     "output_type": "stream",
     "text": [
      "周杰伦\n"
     ]
    }
   ],
   "source": [
    "print(d1[\"七里香\"])"
   ]
  },
  {
   "cell_type": "markdown",
   "metadata": {},
   "source": [
    "## 1.6 集合"
   ]
  },
  {
   "cell_type": "code",
   "execution_count": 29,
   "metadata": {},
   "outputs": [
    {
     "name": "stdout",
     "output_type": "stream",
     "text": [
      "{1, 2, 23, 45, '2'}\n"
     ]
    }
   ],
   "source": [
    "# 集合不分先后\n",
    "s1 = {1,23,45,1,1,1,\"2\",2}\n",
    "print(s1)"
   ]
  },
  {
   "cell_type": "code",
   "execution_count": 30,
   "metadata": {},
   "outputs": [
    {
     "name": "stdout",
     "output_type": "stream",
     "text": [
      "[1, 2, 23, 45, '2']\n"
     ]
    }
   ],
   "source": [
    "# 将集合转化为列表\n",
    "l4 = list(s1)\n",
    "print(l4)"
   ]
  },
  {
   "cell_type": "code",
   "execution_count": 31,
   "metadata": {},
   "outputs": [
    {
     "name": "stdout",
     "output_type": "stream",
     "text": [
      "{1, 2, 45, 23, '2'}\n"
     ]
    }
   ],
   "source": [
    "# 将列表转化为集合\n",
    "s2 = set(l4)\n",
    "print(s2)"
   ]
  }
 ],
 "metadata": {
  "kernelspec": {
   "display_name": "Python 3",
   "language": "python",
   "name": "python3"
  },
  "language_info": {
   "codemirror_mode": {
    "name": "ipython",
    "version": 3
   },
   "file_extension": ".py",
   "mimetype": "text/x-python",
   "name": "python",
   "nbconvert_exporter": "python",
   "pygments_lexer": "ipython3",
   "version": "3.10.1"
  }
 },
 "nbformat": 4,
 "nbformat_minor": 2
}
