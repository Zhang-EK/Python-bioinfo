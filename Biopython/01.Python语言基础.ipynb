{
 "cells": [
  {
   "cell_type": "markdown",
   "metadata": {},
   "source": [
    "# 目录\n",
    "\n",
    "本次课程讲安装下述几部分进行：\n",
    "\n",
    "1.Python的Print输出\n",
    "\n",
    "2.Python的输入\n",
    "\n",
    "3.常见的生信数据中应用的Python类型及变量说明:\n",
    "  \n",
    "    3.1 数据类型\n",
    "\n",
    "    3.2 字符串及转义\n",
    "\n",
    "    3.3 变量\n",
    " \n",
    "    3.4 数据类型转换\n",
    "\n",
    "4.常见的生信数据中应用的Python运算符\n",
    "\n",
    "    4.1 数字运算\n",
    "\n",
    "    4.2 比较运算\n",
    "\n",
    "    4.3 身份运算\n",
    "\n",
    "    4.4 成员运算\n",
    "    \n",
    "    4.5 逻辑运算\n",
    "\n",
    "    4.6 赋值运算"
   ]
  },
  {
   "cell_type": "markdown",
   "metadata": {},
   "source": [
    "\n",
    "# 1. Python的Print输出\n",
    "\n",
    "1.1 程序输出，print语句及“Hello World！”\n",
    "\n",
    "print在日常脚本书写中极为常见，广泛用于脚本纠错、信息输出提醒\n",
    "\n",
    "比如：在脚本中设置print，观察脚本出错的代码行"
   ]
  },
  {
   "cell_type": "code",
   "execution_count": 1,
   "metadata": {},
   "outputs": [
    {
     "name": "stdout",
     "output_type": "stream",
     "text": [
      "hello World\n"
     ]
    }
   ],
   "source": [
    "print (\"hello World\") "
   ]
  },
  {
   "cell_type": "markdown",
   "metadata": {},
   "source": [
    "# 2. Python的输入\n",
    "2.1. 程序输入：input()内建函数\n",
    "\n",
    "#在日常生信分析工作中并不常见"
   ]
  },
  {
   "cell_type": "code",
   "execution_count": 2,
   "metadata": {},
   "outputs": [
    {
     "data": {
      "text/plain": [
       "'erkang'"
      ]
     },
     "execution_count": 2,
     "metadata": {},
     "output_type": "execute_result"
    }
   ],
   "source": [
    "input('enter your ngene1me')"
   ]
  },
  {
   "cell_type": "markdown",
   "metadata": {},
   "source": [
    "# 3.常见生信数据类型及变量\n",
    "\n",
    "    3.1 数据类型\n",
    "\n",
    "    3.2 字符串及转义\n",
    "\n",
    "    3.3 变量\n",
    " \n",
    "    3.4 数据类型转换\n",
    "\n",
    "对生信相关数据进行处理需要掌握的常见Python概念如下：\n",
    "\n",
    "字符串、数值（整数、浮点数）、布尔型、变量"
   ]
  },
  {
   "cell_type": "markdown",
   "metadata": {},
   "source": [
    "以常见的基因表达量数据为例，我们需要对表达量数据进行一系列的处理，例如：\n",
    "\n",
    "1.数据预处理：格式转换、修补剔除、标准化\n",
    "\n",
    "2.显著性分析\n",
    "\n",
    "3.聚类\n",
    "\n",
    "4.目标信息提取\n",
    "\n",
    "5.绘图\n",
    "\n",
    ".......\n",
    "\n",
    "其中会应用到变量定义、数据类型转换\n",
    "\n",
    "为实现上述需要，我们需要掌握基础的数据类型，才能有针对性的进行后续处理。\n",
    "\n",
    "我们一起来学习其中对应的Python类型及变量"
   ]
  },
  {
   "cell_type": "code",
   "execution_count": 2,
   "metadata": {},
   "outputs": [
    {
     "name": "stdout",
     "output_type": "stream",
     "text": [
      "        ID   Fruit      Root      Stem      Leaf\n",
      "0    gene1  324.10  10131.62   2345.36   7730.21\n",
      "1    gene2   46.00   4460.22  17132.75  43406.46\n",
      "2    gene3   30.89     46.51    110.50     42.15\n",
      "3    gene4  410.07  11781.79  24030.12  10986.92\n",
      "4    gene5    0.00      1.42      0.81      0.00\n",
      "..     ...     ...       ...       ...       ...\n",
      "94  gene95    0.49      0.49      0.52      0.27\n",
      "95  gene96  132.28     75.35    128.50     89.02\n",
      "96  gene97   38.30     35.82     25.93     34.23\n",
      "97  gene98    0.00      0.10      0.00      0.00\n",
      "98  gene99   23.15     18.77     12.66     16.82\n",
      "\n",
      "[99 rows x 5 columns]\n"
     ]
    }
   ],
   "source": [
    "# 打开一个常见的基因表达量数据（文件打开方式是后面需要学习的内容）\n",
    "\n",
    "import pandas as pd\n",
    "    \n",
    "data=pd.read_csv(\"../../../Bioinfo/零基础python生物信息学培训/Python课资料/FPKM.txt\",sep=\"\\t\")\n",
    "print(data)"
   ]
  },
  {
   "cell_type": "markdown",
   "metadata": {},
   "source": [
    "3.1 数据类型\n",
    "\n",
    "字符、数值、布尔型"
   ]
  },
  {
   "cell_type": "code",
   "execution_count": 3,
   "metadata": {},
   "outputs": [
    {
     "name": "stdout",
     "output_type": "stream",
     "text": [
      "324.1 <class 'float'>\n",
      "324 <class 'int'>\n",
      "gene1 <class 'str'>\n",
      "True <class 'bool'>\n"
     ]
    }
   ],
   "source": [
    "#3.1. 数据类型\n",
    "\n",
    "#上述FPKM数据中包含的数据类型如下\n",
    "gene1_Fruit_float   = 324.10       # 浮点型变量\n",
    "gene1_Fruit_int= 324 ##整型变量\n",
    "ID_1    = \"gene1\"     # 字符串\n",
    "\n",
    "#另外一个需要注意的类型：布尔型：是/否\n",
    "Bool    = True        # 布尔类型\n",
    "\n",
    "####type() 函数可以判断数据的类型\n",
    "print (gene1_Fruit_float,type(gene1_Fruit_float))\n",
    "print (gene1_Fruit_int,type(gene1_Fruit_int))\n",
    "print (ID_1,type(ID_1))\n",
    "print (Bool,type(Bool))\n"
   ]
  },
  {
   "cell_type": "markdown",
   "metadata": {},
   "source": [
    "3.2. 字符串及转义\n",
    "\n",
    "字符串是连续的字符序列，可以是计算机所能表示的一切字符的集合；\n",
    "\n",
    "转义字符是指使用“\\”对一些特殊字符进行转义\n",
    "\n",
    "字符串在后面的Python脚本中扮演着重要的角色，转义字符的使用使得我们能够方便的按照目标格式输出。"
   ]
  },
  {
   "cell_type": "code",
   "execution_count": null,
   "metadata": {},
   "outputs": [],
   "source": [
    "######在python中，一般将引号内的内容定义为字符串，\n",
    "# 定义方式有单引号、双引号、三单引号、三双引号以及s=str()\n",
    "\n",
    "\"atcgatcg\" ##字符串\n",
    "\"123\""
   ]
  },
  {
   "cell_type": "markdown",
   "metadata": {},
   "source": [
    "字符串具有切片功能"
   ]
  },
  {
   "cell_type": "code",
   "execution_count": null,
   "metadata": {},
   "outputs": [],
   "source": [
    "\"atcgatcg\" ##字符串\n",
    "\n",
    "###输出字符串的第一位\n",
    "print(\"atcgatcg\"[0])\n",
    "\n",
    "###输出字符串的第2到4位：\n",
    "print(\"atcgatcg\"[1:4])\n",
    "\n",
    "###字符串的第2到4位，每间隔2位取一次\n",
    "print(\"atcgatcg\"[1:4:2])   #s[start:end:step] \n",
    "\n",
    "###输出最后一个字符\n",
    "print(\"atcgatcg\"[-1])\n",
    "\n",
    "###从倒数第二个字符开始往前输出\n",
    "print(\"atcgatcg\"[:-1])\n",
    "\n",
    "###倒叙输出\n",
    "print(\"atcgatcg\"[::-1])"
   ]
  },
  {
   "cell_type": "markdown",
   "metadata": {},
   "source": [
    "假设我们获得了测序下机的2条reads序列，\n",
    "\n",
    "\"CTTTTACCACCTCCTATGAAATTTCCTaaggcccttAGAGT\"\n",
    "\n",
    "\"ATTACCCCATTTTGGGGCACAAATGGTTTTAAATACATAC\"\n",
    "\n",
    "我们想对序列1做如下处理：\n",
    "\n",
    "1）判断大小写：判断字母是否全为大写\n",
    "\n",
    "2）统一大小写：将序列中小写转成大写\n",
    "\n",
    "3）统计某碱基对出现次数：统计序列中是否有“ATG\",并输出出现的次数\n",
    "\n",
    "4）找到翻译起始位点：判断序列是否是\"ATG\"开头\n",
    "\n",
    "5）找到翻译起始位点: 判断“ATG\"在序列中出现的位置\n",
    "\n",
    "6）关注序列结尾：判断序列是否是\"*\"结尾\n",
    "\n",
    "想对序列2做如下处理：\n",
    "\n",
    "7）统计序列长度：统计序列长度并输出长度值\n",
    "\n",
    "8）统一序列长度：将序列长度用\"*\"补齐至 150bp\n",
    "\n",
    "9）碱基替换：将\"*\" 替换为“N”\n",
    "\n",
    "10）序列合并： 将2条序列合并成一条"
   ]
  },
  {
   "cell_type": "code",
   "execution_count": 4,
   "metadata": {},
   "outputs": [
    {
     "data": {
      "text/plain": [
       "False"
      ]
     },
     "execution_count": 4,
     "metadata": {},
     "output_type": "execute_result"
    }
   ],
   "source": [
    "#判断是否全为大写：\n",
    "\"CTTTTACCACCTCCTATGAAATTTCCTaaggcccttAGAGT\".isupper() ##isupper() 判断字母是否全为大写、islower() 判断字母是否全为小写"
   ]
  },
  {
   "cell_type": "code",
   "execution_count": 6,
   "metadata": {},
   "outputs": [
    {
     "name": "stdout",
     "output_type": "stream",
     "text": [
      "True\n"
     ]
    }
   ],
   "source": [
    "##统一大小写：将序列中小写转成大写\n",
    "\"CTTTTACCACCTCCTATGAAATTTCCTaaggcccttAGAGT\".upper()\n",
    "\n",
    "#print(\"CTTTTACCACCTCCTATGAAATTTCCTaaggcccttAGAGT\".upper().isupper())"
   ]
  },
  {
   "cell_type": "code",
   "execution_count": 19,
   "metadata": {},
   "outputs": [
    {
     "name": "stdout",
     "output_type": "stream",
     "text": [
      "1\n"
     ]
    }
   ],
   "source": [
    "###统计某碱基对出现次数：统计序列中是否有”ATG\",并输出出现的次数\n",
    "print(\"CTTTTACCACCTCCTATGAAATTTCCTAAGGCCCTTAGAGT\".count(\"ATG\"))"
   ]
  },
  {
   "cell_type": "code",
   "execution_count": 8,
   "metadata": {},
   "outputs": [
    {
     "name": "stdout",
     "output_type": "stream",
     "text": [
      "False\n"
     ]
    }
   ],
   "source": [
    "#找到翻译起始位点：判断序列是否是\"ATG\"开头\n",
    "print(\"CTTTTACCACCTCCTATGAAATTTCCTAAGGCCCTTAGAGT\".startswith(\"ATG\"))"
   ]
  },
  {
   "cell_type": "code",
   "execution_count": 9,
   "metadata": {},
   "outputs": [
    {
     "name": "stdout",
     "output_type": "stream",
     "text": [
      "15\n"
     ]
    }
   ],
   "source": [
    "#找到翻译起始位点: 判断“ATG\"在序列中出现的位置\n",
    "print(\"CTTTTACCACCTCCTATGAAATTTCCTAAGGCCCTTAGAGT\".find(\"ATG\"))   #find() 查询字符或字符串在字符串中第一次出现的位置，如果没有则会返回-1, rfind() 从右往左查询字符或字符串在字符串中第一次出现的位置，如果没有则会返回-1"
   ]
  },
  {
   "cell_type": "code",
   "execution_count": 10,
   "metadata": {},
   "outputs": [
    {
     "name": "stdout",
     "output_type": "stream",
     "text": [
      "False\n"
     ]
    }
   ],
   "source": [
    "#关注序列结尾：判断序列是否是\"*\"结尾\n",
    "print(\"CTTTTACCACCTCCTATGAAATTTCCTAAGGCCCTTAGAGT\".endswith(\"*\"))"
   ]
  },
  {
   "cell_type": "code",
   "execution_count": 12,
   "metadata": {},
   "outputs": [
    {
     "name": "stdout",
     "output_type": "stream",
     "text": [
      "40\n"
     ]
    }
   ],
   "source": [
    "#统计序列2长度：统计序列长度并输出长度值\n",
    "print(len(\"ATTACCCCATTTTGGGGCACAAATGGTTTTAAATACATAC\"))"
   ]
  },
  {
   "cell_type": "code",
   "execution_count": 13,
   "metadata": {},
   "outputs": [
    {
     "data": {
      "text/plain": [
       "'*******************************************************ATTACCCCATTTTGGGGCACAAATGGTTTTAAATACATAC*******************************************************'"
      ]
     },
     "execution_count": 13,
     "metadata": {},
     "output_type": "execute_result"
    }
   ],
   "source": [
    "#统一序列长度：将序列长度用\"*\"补齐至 150bp\n",
    "\"ATTACCCCATTTTGGGGCACAAATGGTTTTAAATACATAC\".center(150,'*')\n",
    "\n",
    "#思考一个问题：如何统一序列1和序列2的长度"
   ]
  },
  {
   "cell_type": "code",
   "execution_count": 14,
   "metadata": {},
   "outputs": [
    {
     "data": {
      "text/plain": [
       "'NNNNNNNNNNNNNNNNNNNNNNNNNNNNNNNNNNNNNNNNNNNNNNNNNNNNNNNATTACCCCATTTTGGGGCACAAATGGTTTTAAATACATACNNNNNNNNNNNNNNNNNNNNNNNNNNNNNNNNNNNNNNNNNNNNNNNNNNNNNNN'"
      ]
     },
     "execution_count": 14,
     "metadata": {},
     "output_type": "execute_result"
    }
   ],
   "source": [
    "#碱基替换：将\"*\" 替换为“N”\n",
    "'*******************************************************ATTACCCCATTTTGGGGCACAAATGGTTTTAAATACATAC*******************************************************'.replace(\"*\",'N')"
   ]
  },
  {
   "cell_type": "code",
   "execution_count": 15,
   "metadata": {},
   "outputs": [
    {
     "data": {
      "text/plain": [
       "'CTTTTACCACCTCCTATGAAATTTCCTAAGGCCCTTAGAGTNNNNNNNNNNNNNNNNNNNNNNNNNNNNNNNNNNNNNNNNNNNNNNNNNNNNNNNATTACCCCATTTTGGGGCACAAATGGTTTTAAATACATACNNNNNNNNNNNNNNNNNNNNNNNNNNNNNNNNNNNNNNNNNNNNNNNNNNNNNNN'"
      ]
     },
     "execution_count": 15,
     "metadata": {},
     "output_type": "execute_result"
    }
   ],
   "source": [
    "#序列合并： 将2条序列合并成一条\n",
    "\"CTTTTACCACCTCCTATGAAATTTCCTAAGGCCCTTAGAGT\"+\"NNNNNNNNNNNNNNNNNNNNNNNNNNNNNNNNNNNNNNNNNNNNNNNNNNNNNNNATTACCCCATTTTGGGGCACAAATGGTTTTAAATACATACNNNNNNNNNNNNNNNNNNNNNNNNNNNNNNNNNNNNNNNNNNNNNNNNNNNNNNN\""
   ]
  },
  {
   "cell_type": "code",
   "execution_count": null,
   "metadata": {},
   "outputs": [],
   "source": [
    "##还有一些字符串的其他用法，我们日常也会用到，他们应用于较为复杂的场景，后面课程中会讲到，此处作简单展示：\n",
    "'''\n",
    "isdigit() 判断是否为数字\n",
    "isalpha() 判断是否全为字母\n",
    "split() 将字符串按照特定的格式进行分割，返回值是一个列表 \n",
    "join() 按照特定的符号将一个可迭代对象拼接成字符串 \n",
    "strip() 清除字符串两侧空格  \n",
    "lstrip() 清除字符串左边空格\n",
    "rstrip() 清除字符串右边空格\n",
    "'''"
   ]
  },
  {
   "cell_type": "markdown",
   "metadata": {},
   "source": [
    "什么是转义字符？\n",
    "\n",
    "转义字符是一个计算机专业词汇。在计算机当中，我们可以写出123，也可以写出字母abcd，但有些字符我们无法手动书写，比如:换行、换页、空格等，我们不能写出来换行符，我们也看不见换行符。\n",
    "\n",
    "还有一种情况，大家刚刚学过了引号在python中是有意义的，引号引起了定义一个字符，但是我们不想应用引号的作用，只是想写出引号，这种情况下，当我们需要在字符中使用特殊字符时，需要用到转义符号\n",
    "\n",
    "在python里用反斜杠\\转义字符。"
   ]
  },
  {
   "cell_type": "code",
   "execution_count": 23,
   "metadata": {},
   "outputs": [
    {
     "data": {
      "text/plain": [
       "'Her nickname is \"cat\" '"
      ]
     },
     "execution_count": 23,
     "metadata": {},
     "output_type": "execute_result"
    }
   ],
   "source": [
    "# 我们想在计算机中写一句话：It's me\n",
    "\n",
    "\"Her nickname is \\\"cat\\\" \"\n"
   ]
  },
  {
   "cell_type": "code",
   "execution_count": 29,
   "metadata": {},
   "outputs": [
    {
     "name": "stdout",
     "output_type": "stream",
     "text": [
      "information\n",
      "The two FPKM of Fruit is:\n",
      " \"324.10\"\t\"46.00\"\n"
     ]
    },
    {
     "name": "stderr",
     "output_type": "stream",
     "text": [
      "<>:12: SyntaxWarning: invalid escape sequence '\\,'\n",
      "<>:12: SyntaxWarning: invalid escape sequence '\\,'\n",
      "/var/folders/ry/tjw3bcpn1bq0hj8d6z7993zr0000gn/T/ipykernel_90798/3765725015.py:12: SyntaxWarning: invalid escape sequence '\\,'\n",
      "  '''\n"
     ]
    },
    {
     "data": {
      "text/plain": [
       "'\\n其中用到了转义字符：\\\\, \", \\n, \\t\\n1) \\\\ 续行符，如果一段话太长(超过8,那么可以使用续行符另起一行继续写)\\n2) \\n 换行符, 换行\\n3) \\t tab键\\n4) \" 如果想要输出双引号，需要使用\\\\进行转义，使其不再发挥“的作用\\n'"
      ]
     },
     "execution_count": 29,
     "metadata": {},
     "output_type": "execute_result"
    }
   ],
   "source": [
    "##转义字符的应用，例如，我们想根据表达量计算的结果输出下面的一段内容：\n",
    "'''\n",
    "information\n",
    "The two FPKM of Fruit is:\n",
    " \"324.10\"  \"46.00\"  \n",
    "'''\n",
    "\n",
    "print( \"information\\nThe two FPKM of Fruit \\\n",
    "is:\\n \\\"324.10\\\"\\t\\\"46.00\\\"\") \n",
    "\n",
    "\n",
    "'''\n",
    "其中用到了转义字符：\\, \\\", \\n, \\t\n",
    "1) \\ 续行符，如果一段话太长(超过8,那么可以使用续行符另起一行继续写)\n",
    "2) \\n 换行符, 换行\n",
    "3) \\t tab键\n",
    "4) \\\" 如果想要输出双引号，需要使用\\进行转义，使其不再发挥“的作用\n",
    "'''\n"
   ]
  },
  {
   "cell_type": "markdown",
   "metadata": {},
   "source": [
    "3.3 变量\n",
    "\n",
    "在学习进行数据类型的转换之前，我们先学习一下变量\n",
    "\n",
    "变量是存放数据值的容器。 与其他编程语言不同，Python 没有声明变量的命令。 首次为其赋值时，才会创建变量。\n",
    "\n",
    "变量不需要使用任何特定类型声明，甚至可以在设置后更改其类型。 \n",
    "\n",
    "   #变量无须声明就可以直接赋值，对一个不存在的变量赋值就相当于定义了一个新变量\n",
    "   \n",
    "   #变量的数据类型可以随时改变，比如，同一个变量可以一会儿被赋值为整数，一会儿被赋值为字符串。\n",
    "\n",
    "将数据放入变量的过程叫做赋值。Python 使用等号=作为赋值运算符，具体格式为：name=value\n",
    "\n",
    "注意，变量是标识符的一种，它的名字不能随便起，要遵守 Python 标识符命名规范，还要避免和 Python 内置函数以及 Python 保留字重名。\n",
    "\n",
    "   #变量的命名应该能反映变量值所描述的状态，不建议使用中文。\n",
    "\n",
    "   #变量名用字母数字下划线组合，并且变量名的第一个字符不能是数字。\n",
    "\n",
    "   #Python关键字不能声明为变量名"
   ]
  },
  {
   "cell_type": "code",
   "execution_count": 32,
   "metadata": {},
   "outputs": [
    {
     "name": "stdout",
     "output_type": "stream",
     "text": [
      "0 <class 'int'>\n",
      "1 <class 'str'>\n",
      "True <class 'bool'>\n"
     ]
    }
   ],
   "source": [
    "##自定义变量并输出\n",
    "'''\n",
    "使用 Python 变量时，只要知道变量的名字即可。\n",
    "几乎在 Python 代码的任何地方都能使用变量,\n",
    "字符串，整数，浮点数，bool值等类型都可以赋值给变量\n",
    "'''\n",
    "number=0\n",
    "str1=\"1\"\n",
    "jude=True\n",
    "print(number,type(number))\n",
    "print(str1,type(str1))\n",
    "print(jude,type(jude))"
   ]
  },
  {
   "cell_type": "code",
   "execution_count": 33,
   "metadata": {},
   "outputs": [
    {
     "name": "stdout",
     "output_type": "stream",
     "text": [
      "12 12\n",
      "Type Flower 14 23\n"
     ]
    }
   ],
   "source": [
    "##多个变量赋值\n",
    "gene3 = gene4 = gene5 = 12\n",
    "print(gene3,gene4)\n",
    "header1,header2,gene1,gene2=\"Type\",\"Flower\",14,23\n",
    "print(header1,header2,gene1,gene2)"
   ]
  },
  {
   "cell_type": "code",
   "execution_count": null,
   "metadata": {},
   "outputs": [],
   "source": [
    "##变量的继承功能\n",
    "#不同类型赋值给变量之后，可以继承此类型的功能\n",
    "\n",
    "sequence1=\"CTTTTACCACCTCCTATGAAATTTCCTaaggcccttAGAGT\"\n",
    "sequence2=\"ATTACCCCATTTTGGGGCACAAATGGTTTTAAATACATAC\"\n",
    "\n",
    "#判断是否全为大写：\n",
    "print(sequence1.isupper()) ##isupper() 判断字母是否全为大写、islower() 判断字母是否全为小写\n",
    "\n",
    "##统一大小写：将序列中小写转成大写\n",
    "sequence1=sequence1.upper()\n",
    "print(sequence1.isupper())\n",
    "\n",
    "###统计某碱基对出现次数：统计序列中是否有”ATG\",并输出出现的次数\n",
    "print(sequence1.count(\"ATG\"))\n",
    "\n",
    "#找到翻译起始位点：判断序列是否是\"ATG\"开头\n",
    "print(sequence1.startswith(\"ATG\"))\n",
    "\n",
    "#找到翻译起始位点: 判断“ATG\"在序列中出现的位置\n",
    "print(sequence1.find(\"ATG\"))   #find() 查询字符或字符串在字符串中第一次出现的位置，如果没有则会返回-1, rfind() 从右往左查询字符或字符串在字符串中第一次出现的位置，如果没有则会返回-1\n",
    "\n",
    "#关注序列结尾：判断序列是否是\"*\"结尾\n",
    "print(sequence1.endswith(\"*\"))\n",
    "\n",
    "#统计序列2长度：统计序列长度并输出长度值\n",
    "print(len(sequence2))\n",
    "\n",
    "#统一序列长度：将序列长度用\"*\"补齐至 150bp\n",
    "sequence2=sequence2.center(150,'*')\n",
    "print(sequence2)    #思考一个问题：如何统一序列1和序列2的长度\n",
    "\n",
    "#碱基替换：将\"*\" 替换为“N”\n",
    "sequence2=sequence2.replace(\"*\",'N')\n",
    "print(sequence2)\n",
    "\n",
    "#序列合并： 将2条序列合并成一条\n",
    "sequence=sequence1+sequence2 ###字符串合并\n",
    "print(sequence)\n"
   ]
  },
  {
   "cell_type": "code",
   "execution_count": null,
   "metadata": {},
   "outputs": [],
   "source": [
    "同理，数值类型赋值给变量后，变量也继承了数值的功能，可以用于各种计算和比较\n",
    "\n",
    "稍后我们在讲运算符时会讲到，此处做个铺垫"
   ]
  },
  {
   "cell_type": "markdown",
   "metadata": {},
   "source": [
    "3.4 常见数据类型的转换\n",
    "\n",
    "在日常分析中，我们经常会遇到，将字符串类型的数字转换为数值类型，或者反之。\n",
    "\n",
    "因为Python需要统一类型才能进行计算和比较。"
   ]
  },
  {
   "cell_type": "code",
   "execution_count": 31,
   "metadata": {},
   "outputs": [
    {
     "name": "stdout",
     "output_type": "stream",
     "text": [
      "324.0 324 324.0\n",
      "<class 'float'> \n",
      " <class 'int'> \n",
      " <class 'str'>\n"
     ]
    }
   ],
   "source": [
    "gene1_Fruit_int_2float = float(gene1_Fruit_int)          #转浮点数 \n",
    "gene1_Fruit_float_2int   = int(gene1_Fruit_float)        #转整数\n",
    "name_str = str(gene1_Fruit_int_2float)                 #转字符串\n",
    "print(gene1_Fruit_int_2float,gene1_Fruit_float_2int,name_str)\n",
    "print(type(gene1_Fruit_int_2float),\"\\n\",type(gene1_Fruit_float_2int),\"\\n\",type(name_str))"
   ]
  },
  {
   "cell_type": "markdown",
   "metadata": {},
   "source": [
    "四、运算符\n",
    "\n",
    "运算符的定义：举个简单的例子 我们对两个基因的表达量数据进行加和：gene1 + gene2，例子中，gene1 和 gene2 被称为操作数，+ 称为运算符。\n",
    "\n",
    "常见的生信数据中应用的Python运算符\n",
    "\n",
    "    4.1 数字运算\n",
    "\n",
    "    4.2 比较运算\n",
    "\n",
    "    4.3 身份运算\n",
    "\n",
    "    4.4 成员运算\n",
    "    \n",
    "    4.5 逻辑运算\n",
    "\n",
    "    4.6 赋值运算\n",
    "\n",
    "\n",
    "仍旧以表达量数据为例，我们需要寻找差异表达基因、根据条件筛选符合的数据、判断基因之间的大小关系等等，\n",
    "\n",
    "运算符的应用将在其中扮演重要角色"
   ]
  },
  {
   "cell_type": "markdown",
   "metadata": {},
   "source": [
    "4.1 简单数字运算符： 加、减、乘、除、取余、取整除、幂"
   ]
  },
  {
   "cell_type": "code",
   "execution_count": 34,
   "metadata": {},
   "outputs": [
    {
     "name": "stdout",
     "output_type": "stream",
     "text": [
      "1) gene3 的值为： 5\n",
      "2) gene3 的值为： 1\n",
      "1) gene3 的值为： 6\n",
      "1) gene3 的值为： 1.5\n",
      "1) gene3 的值为： 1\n",
      "1) gene3 的值为： 9\n",
      "1) gene3 的值为： 1\n"
     ]
    }
   ],
   "source": [
    "#简单的小例子：\n",
    "gene1 = 3\n",
    "gene2 = 2\n",
    "gene3 = 0\n",
    " \n",
    "gene3 = gene1 + gene2\n",
    "print (\"1) gene3 的值为：\", gene3)\n",
    " \n",
    "gene3 = gene1 - gene2\n",
    "print (\"2) gene3 的值为：\", gene3)\n",
    " \n",
    "gene3 = gene1 * gene2\n",
    "print (\"1) gene3 的值为：\", gene3) \n",
    "\n",
    "gene3 = gene1 / gene2\n",
    "print (\"1) gene3 的值为：\", gene3) \n",
    "\n",
    "gene3 = gene1 % gene2\n",
    "print (\"1) gene3 的值为：\", gene3) \n",
    "\n",
    "gene3 = gene1 ** gene2\n",
    "print (\"1) gene3 的值为：\", gene3) \n",
    "\n",
    "gene3 = gene1 // gene2\n",
    "print (\"1) gene3 的值为：\", gene3)"
   ]
  },
  {
   "cell_type": "markdown",
   "metadata": {},
   "source": [
    "4.2 比较运算符\n",
    "\n",
    "比较变量之间的大小、相等关系, 输出的为布尔值"
   ]
  },
  {
   "cell_type": "code",
   "execution_count": 35,
   "metadata": {},
   "outputs": [
    {
     "name": "stdout",
     "output_type": "stream",
     "text": [
      "1) False\n",
      "2) True\n",
      "3) False\n",
      "4) False\n",
      "5) False\n"
     ]
    }
   ],
   "source": [
    "#简单的小例子：\n",
    "gene1 = 3\n",
    "gene2 = 2\n",
    "gene3 = 3\n",
    " \n",
    "print(\"1)\",gene1<gene2)\n",
    "print(\"2)\",gene1>gene2)\n",
    "print(\"3)\",gene1<=gene2)\n",
    "print(\"4)\",gene1==gene2)\n",
    "print(\"5)\",gene1==gene2)"
   ]
  },
  {
   "cell_type": "markdown",
   "metadata": {},
   "source": [
    "4.3 身份运算符\n",
    "\n",
    "'''is 是判断两个标识符是不是引用自一个对象，\n",
    "\n",
    "is not 是判断两个标识符是不是引用自不同对象'''\n",
    "\n",
    "#应用的相对较少，了解一下。"
   ]
  },
  {
   "cell_type": "code",
   "execution_count": 36,
   "metadata": {},
   "outputs": [
    {
     "name": "stdout",
     "output_type": "stream",
     "text": [
      "1) a 和 b 有相同的标识\n",
      "2) a 和 b 有相同的标识\n",
      "4337011912\n",
      "4337011912\n"
     ]
    }
   ],
   "source": [
    "a,b=3,3\n",
    "if ( a is b ):\n",
    "   print (\"1) a 和 b 有相同的标识\")\n",
    "else:\n",
    "   print (\"1) a 和 b 没有相同的标识\")\n",
    " \n",
    "if ( id(a) == id(b) ):\n",
    "   print (\"2) a 和 b 有相同的标识\")\n",
    "else:\n",
    "   print (\"2) a 和 b 没有相同的标识\")\n",
    "\n",
    "print(id(a))\n",
    "print(id(b))\n"
   ]
  },
  {
   "cell_type": "markdown",
   "metadata": {},
   "source": [
    "4.4 成员运算符\n",
    "\n",
    "in: 如果在指定的序列中找到值返回 True，否则返回 False。\n",
    "\n",
    "not in:如果在指定的序列中没有找到值返回 True，否则返回 False。"
   ]
  },
  {
   "cell_type": "code",
   "execution_count": 37,
   "metadata": {},
   "outputs": [
    {
     "name": "stdout",
     "output_type": "stream",
     "text": [
      "1)  Root 在给定的列表中 data 中\n"
     ]
    }
   ],
   "source": [
    "#举个例子：判断我们打开的表达量文件中是否有某些字符。\n",
    " \n",
    "if ( \"Root\" in data ):  \n",
    "   print (\"1)  Root 在给定的列表中 data 中\")\n",
    "else:\n",
    "   print (\"1)  Root 不在给定的列表中 data 中\")\n",
    "\n",
    "\n",
    "#if  ( \"Root\" not in data ):  \n",
    "#    print (\"2) 变量 \"Root\" 不在给定的列表中 data 中\")\n",
    " "
   ]
  },
  {
   "cell_type": "markdown",
   "metadata": {},
   "source": [
    "4.5 逻辑运算符\n",
    "\n",
    "判断数据是否符合条件\n",
    "\n",
    "可以是:同时符合多个条件，也可以是符合多个条件中的一个即可"
   ]
  },
  {
   "cell_type": "code",
   "execution_count": 38,
   "metadata": {},
   "outputs": [
    {
     "name": "stdout",
     "output_type": "stream",
     "text": [
      "1) Root 和 Flower 不都在文件中\n",
      "2) Root 和 Flower 至少一个在文件中\n"
     ]
    }
   ],
   "source": [
    " #举个例子：判断我们打开的表达量文件中是否同时/至少包含某些字符。\n",
    "\n",
    "if ( \"Root\" in data ) and  (\"Flower\" in data):  \n",
    "   print (\"1) Root 和 Flower 都在文件中\")\n",
    "else:\n",
    "   print (\"1) Root 和 Flower 不都在文件中\")\n",
    "\n",
    "if ( \"Root\" in data ) or  (\"Flower\" in data):  \n",
    "    print (\"2) Root 和 Flower 至少一个在文件中\")\n"
   ]
  },
  {
   "cell_type": "markdown",
   "metadata": {},
   "source": [
    "4.6 赋值运算符\n",
    "\n",
    "赋值运算符用来把右侧的值传递给左侧的变量（或者常量）；\n",
    "\n",
    "可以直接将右侧的值交给左侧的变量，\n",
    "\n",
    "也可以进行某些运算后再交给左侧的变量，比如加减乘除、函数调用、逻辑运算等。\n",
    "\n",
    "此运算在生信分析中极常应用，掌握此技巧可以大大优化脚本"
   ]
  },
  {
   "cell_type": "code",
   "execution_count": 39,
   "metadata": {},
   "outputs": [
    {
     "name": "stdout",
     "output_type": "stream",
     "text": [
      "1) c 的值为： 5\n",
      "2) c 的值为： 8\n",
      "3) c 的值为： 24\n",
      "4) c 的值为： 8.0\n",
      "5) c 的值为： 2.0\n",
      "6) c 的值为： 8.0\n",
      "7) c 的值为： 2.0\n"
     ]
    }
   ],
   "source": [
    "# 举个例子：\n",
    "\n",
    "a = 3\n",
    "b = 2\n",
    " \n",
    "c = a + b\n",
    "print (\"1) c 的值为：\", c) #简单加和\n",
    " \n",
    "c += a\n",
    "print (\"2) c 的值为：\", c) #加法赋值\n",
    " \n",
    "c *= a\n",
    "print (\"3) c 的值为：\", c) #乘法赋值\n",
    " \n",
    "c /= a \n",
    "print (\"4) c 的值为：\", c) #除法赋值\n",
    " \n",
    "c %= a\n",
    "print (\"5) c 的值为：\", c) #取模赋值\n",
    " \n",
    "c **= a\n",
    "print (\"6) c 的值为：\", c) #幂赋值\n",
    " \n",
    "c //= a\n",
    "print (\"7) c 的值为：\", c) #取整除赋值"
   ]
  },
  {
   "cell_type": "markdown",
   "metadata": {},
   "source": [
    "###课下做一下课后练习题"
   ]
  },
  {
   "cell_type": "markdown",
   "metadata": {},
   "source": [
    "字符串及运算符使用：\n",
    "\n",
    "1) 判断“CTTTTACCACCTCCTATGAAATTTCCTATAGAGTTTTCTTTCATTACCCCATTTTGGGGCACAAATGGTTTTAAATACATACATTTGTAAACTTACCCTGA”这一串DNA序列中是否存在“ATTT”序列？\n",
    "\n",
    "2) 请用代码计算一下上述的DNA序列中的A碱基比例\n",
    "\n",
    "3) 判断\">NCCL:00000a28-539f-41b4/2\"是否以\">\"开头？"
   ]
  },
  {
   "cell_type": "markdown",
   "metadata": {},
   "source": [
    "变量使用：\n",
    "\n",
    "请用代码来判断下面的变量a是一个字符串还是一个数字？"
   ]
  },
  {
   "cell_type": "markdown",
   "metadata": {},
   "source": [
    "实践操作：\n",
    "\n",
    "假设我们预算1万元，进行人全基因组测序，目标测序深度为100x，请问我们的预算是否足够负担测序需求？\n",
    "\n",
    "已知：人全基因组大小为3G、测序价格为30/G\n"
   ]
  }
 ],
 "metadata": {
  "kernelspec": {
   "display_name": "Python 3 (ipykernel)",
   "language": "python",
   "name": "python3"
  },
  "language_info": {
   "codemirror_mode": {
    "name": "ipython",
    "version": 3
   },
   "file_extension": ".py",
   "mimetype": "text/x-python",
   "name": "python",
   "nbconvert_exporter": "python",
   "pygments_lexer": "ipython3",
   "version": "3.12.0"
  },
  "vscode": {
   "interpreter": {
    "hash": "777526033ce1407c92bce359ef471983a7415c307af835fb0b300bfe9a1226c6"
   }
  }
 },
 "nbformat": 4,
 "nbformat_minor": 2
}
