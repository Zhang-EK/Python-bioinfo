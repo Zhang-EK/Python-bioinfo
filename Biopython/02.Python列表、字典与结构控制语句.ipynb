{
 "cells": [
  {
   "cell_type": "markdown",
   "id": "2abd39fc",
   "metadata": {},
   "source": [
    "# 1 列表\n",
    "## 1.1 列表的概念与建立"
   ]
  },
  {
   "cell_type": "markdown",
   "id": "70fbb459",
   "metadata": {},
   "source": [
    "列表是Python中的有序集合对象类型。它可以包含：数字、字符串、其它列表（字典）等。"
   ]
  },
  {
   "cell_type": "markdown",
   "id": "cd5a1bce",
   "metadata": {},
   "source": [
    "在python中，列表使用“[    ]”来表示。"
   ]
  },
  {
   "cell_type": "code",
   "execution_count": null,
   "id": "1b3ade0d",
   "metadata": {},
   "outputs": [],
   "source": [
    "L1=[ ]"
   ]
  },
  {
   "cell_type": "code",
   "execution_count": null,
   "id": "613d4ed6",
   "metadata": {},
   "outputs": [],
   "source": [
    "L2=list()"
   ]
  },
  {
   "cell_type": "code",
   "execution_count": null,
   "id": "d6cd4760",
   "metadata": {},
   "outputs": [],
   "source": [
    "L3=[1,3,2,4,2]"
   ]
  },
  {
   "cell_type": "code",
   "execution_count": 1,
   "id": "6ab56dec",
   "metadata": {},
   "outputs": [],
   "source": [
    "L4=[\"APC\",\"DPYD\",\"MSH2\",\"PIK3CA\",\"SDHD\",\"BMPR1A\",\"EPCAM\",\"MSH6\"]"
   ]
  },
  {
   "cell_type": "code",
   "execution_count": 2,
   "id": "23a321c6",
   "metadata": {},
   "outputs": [
    {
     "name": "stdout",
     "output_type": "stream",
     "text": [
      "['APC', 'DPYD', 'MSH2', 'PIK3CA', 'SDHD', 'BMPR1A', 'EPCAM', 'MSH6']\n"
     ]
    }
   ],
   "source": [
    "print(L4)"
   ]
  },
  {
   "cell_type": "markdown",
   "id": "8ee6930f",
   "metadata": {},
   "source": [
    "# 2 列表的方法"
   ]
  },
  {
   "cell_type": "markdown",
   "id": "b48c3ed0",
   "metadata": {},
   "source": [
    "列表的方法可以和字符串比对记忆。"
   ]
  },
  {
   "cell_type": "markdown",
   "id": "6e613139",
   "metadata": {},
   "source": [
    "## 2.1  列表的加法与乘法运算"
   ]
  },
  {
   "cell_type": "code",
   "execution_count": 3,
   "id": "09f9ed02",
   "metadata": {},
   "outputs": [
    {
     "name": "stdout",
     "output_type": "stream",
     "text": [
      "[1, 2, 3, 4]\n"
     ]
    }
   ],
   "source": [
    "L1=[1,2]\n",
    "L2=[3,4]\n",
    "print(L1+L2)"
   ]
  },
  {
   "cell_type": "code",
   "execution_count": 4,
   "id": "d7e0b865",
   "metadata": {
    "scrolled": false
   },
   "outputs": [
    {
     "name": "stdout",
     "output_type": "stream",
     "text": [
      "[1, 2, 1, 2, 1, 2]\n"
     ]
    }
   ],
   "source": [
    "L1=L1*3\n",
    "print(L1)"
   ]
  },
  {
   "cell_type": "markdown",
   "id": "8305673f",
   "metadata": {},
   "source": [
    "## 2.2 in 运算符"
   ]
  },
  {
   "cell_type": "code",
   "execution_count": 5,
   "id": "51789569",
   "metadata": {},
   "outputs": [
    {
     "name": "stdout",
     "output_type": "stream",
     "text": [
      "True\n"
     ]
    }
   ],
   "source": [
    "print (3 in L2)"
   ]
  },
  {
   "cell_type": "markdown",
   "id": "5adccfac",
   "metadata": {},
   "source": [
    "## 2.3 append 方法"
   ]
  },
  {
   "cell_type": "code",
   "execution_count": 6,
   "id": "b0afbe7b",
   "metadata": {},
   "outputs": [
    {
     "name": "stdout",
     "output_type": "stream",
     "text": [
      "[3, 4, 5]\n"
     ]
    }
   ],
   "source": [
    "L2.append(5)\n",
    "print(L2)"
   ]
  },
  {
   "cell_type": "markdown",
   "id": "356eb7f4",
   "metadata": {},
   "source": [
    "## 2.4 insert方法"
   ]
  },
  {
   "cell_type": "markdown",
   "id": "24b13b3b",
   "metadata": {},
   "source": [
    "insert()方法接收两个参数，第一个是要插入的index，第二个就是要插入的对象。"
   ]
  },
  {
   "cell_type": "code",
   "execution_count": 7,
   "id": "93c2b686",
   "metadata": {},
   "outputs": [
    {
     "name": "stdout",
     "output_type": "stream",
     "text": [
      "[3, 10, 4, 5]\n"
     ]
    }
   ],
   "source": [
    "L2.insert(1,10)\n",
    "print(L2)"
   ]
  },
  {
   "cell_type": "markdown",
   "id": "80a6688f",
   "metadata": {},
   "source": [
    "## 2.5 Count方法\n",
    "某一个元素出现的次数"
   ]
  },
  {
   "cell_type": "code",
   "execution_count": 8,
   "id": "79bcdf46",
   "metadata": {
    "scrolled": true
   },
   "outputs": [
    {
     "data": {
      "text/plain": [
       "3"
      ]
     },
     "execution_count": 8,
     "metadata": {},
     "output_type": "execute_result"
    }
   ],
   "source": [
    "L1.count(2)"
   ]
  },
  {
   "cell_type": "markdown",
   "id": "458aba47",
   "metadata": {},
   "source": [
    "## 2.6 reverse方法"
   ]
  },
  {
   "cell_type": "markdown",
   "id": "7b334892",
   "metadata": {},
   "source": [
    "reverse()方法会将列表进行反转"
   ]
  },
  {
   "cell_type": "code",
   "execution_count": 14,
   "id": "94ed58d5",
   "metadata": {
    "scrolled": true
   },
   "outputs": [
    {
     "name": "stdout",
     "output_type": "stream",
     "text": [
      "[5, 4, 10, 3]\n"
     ]
    }
   ],
   "source": [
    "L2.reverse()\n",
    "print(L2)"
   ]
  },
  {
   "cell_type": "markdown",
   "id": "a304f280",
   "metadata": {},
   "source": [
    "## 2.7 列表删除的相关方法"
   ]
  },
  {
   "cell_type": "markdown",
   "id": "febc4e18",
   "metadata": {},
   "source": [
    "### 2.7.1 pop方法\n",
    "pop()会删除最右边的元素并返回它的值"
   ]
  },
  {
   "cell_type": "code",
   "execution_count": 15,
   "id": "302aeb84",
   "metadata": {
    "scrolled": false
   },
   "outputs": [
    {
     "name": "stdout",
     "output_type": "stream",
     "text": [
      "5\n",
      "[3, 10, 4]\n"
     ]
    }
   ],
   "source": [
    "L3=[3, 10, 4, 5]\n",
    "out=L3.pop()\n",
    "print(out)\n",
    "print(L3)"
   ]
  },
  {
   "cell_type": "markdown",
   "id": "3badf452",
   "metadata": {},
   "source": [
    "### 2.7.2 remove方法\n",
    "remove()会删除指定的元素"
   ]
  },
  {
   "cell_type": "code",
   "execution_count": 16,
   "id": "6854e534",
   "metadata": {
    "scrolled": true
   },
   "outputs": [
    {
     "name": "stdout",
     "output_type": "stream",
     "text": [
      "None\n",
      "[3, 10]\n"
     ]
    }
   ],
   "source": [
    "out=L3.remove(4)\n",
    "print(out)\n",
    "print(L3)"
   ]
  },
  {
   "cell_type": "markdown",
   "id": "0f66c2e9",
   "metadata": {},
   "source": [
    "### 2.7.3 del 函数\n",
    "del 函数可以结合索引删除指的值"
   ]
  },
  {
   "cell_type": "code",
   "execution_count": 17,
   "id": "fb589806",
   "metadata": {},
   "outputs": [
    {
     "name": "stdout",
     "output_type": "stream",
     "text": [
      "[10]\n"
     ]
    }
   ],
   "source": [
    "del L3[0]\n",
    "print(L3)"
   ]
  },
  {
   "cell_type": "markdown",
   "id": "852c0037",
   "metadata": {},
   "source": [
    "## 2.8 列表与字符串"
   ]
  },
  {
   "cell_type": "markdown",
   "id": "33523ab3",
   "metadata": {},
   "source": [
    "### 2.8.1 列表与字符串的相互转换\n",
    "我们从文件中读取的信息，通常是以字符串进行存储，但从数据结构来讲，相当普遍的场景是需要存储于列表中的。split方法是最常用的把字符串转换成列表的方式之一。split方法以**空格**切割字符串，并将非空的部分以列表形式返回。\n",
    "split()可以指定分隔符，像\"\\t\" \",\"都可以"
   ]
  },
  {
   "cell_type": "code",
   "execution_count": 20,
   "id": "d23ea3a2",
   "metadata": {},
   "outputs": [
    {
     "name": "stdout",
     "output_type": "stream",
     "text": [
      "['MSH6', '2', '10', 'Y']\n",
      "['CDK', '2', '10', 'X']\n"
     ]
    }
   ],
   "source": [
    "Line=\"MSH6   2     10    Y\"\n",
    "geneList=Line.split()\n",
    "print(geneList)\n",
    "\n",
    "line = \"CDK\\t2\\t10\\tX\"\n",
    "print(line.split(\"\\t\"))"
   ]
  },
  {
   "cell_type": "markdown",
   "id": "3b9c77d6",
   "metadata": {},
   "source": [
    "同时，输出环节，一般我们并不会直接输出一个列表。更常见的场景是打印字符串。join方法可以使我们掌握列表转换成字符串的技能。"
   ]
  },
  {
   "cell_type": "code",
   "execution_count": 21,
   "id": "0e93a7b0",
   "metadata": {
    "scrolled": true
   },
   "outputs": [
    {
     "name": "stdout",
     "output_type": "stream",
     "text": [
      "MSH6\t2\t10\tY\n"
     ]
    }
   ],
   "source": [
    "outString=\"\\t\".join(geneList)\n",
    "print(outString)"
   ]
  },
  {
   "cell_type": "markdown",
   "id": "ebaffb08",
   "metadata": {},
   "source": [
    "### 2.8.2 列表与字符串共同的方法与运算\n",
    "1. 字符串也支持+ *的运算\n",
    "2. in 运算符\n",
    "3. count方法\n",
    "4. reverse方法\n",
    "5. 索引与切片"
   ]
  },
  {
   "cell_type": "code",
   "execution_count": 22,
   "id": "e976401d",
   "metadata": {},
   "outputs": [],
   "source": [
    "sampleList=[\"A\",\"B\",\"C\"]\n",
    "sampleStr =\"ABC\"\n"
   ]
  },
  {
   "cell_type": "markdown",
   "id": "986c1eed",
   "metadata": {},
   "source": [
    "比较一下字符串和列表的+ * 运算"
   ]
  },
  {
   "cell_type": "code",
   "execution_count": 23,
   "id": "dd8f5ca1",
   "metadata": {},
   "outputs": [
    {
     "name": "stdout",
     "output_type": "stream",
     "text": [
      "['A', 'B', 'C', 'A', 'B', 'C']\n",
      "ABCABC\n",
      "['A', 'B', 'C', 'A', 'B', 'C', 'A', 'B', 'C']\n",
      "ABCABCABC\n"
     ]
    }
   ],
   "source": [
    "print(sampleList+sampleList)\n",
    "print(sampleStr+sampleStr)\n",
    "print(sampleList*3)\n",
    "print(sampleStr*3)"
   ]
  },
  {
   "cell_type": "markdown",
   "id": "0745a8e3",
   "metadata": {},
   "source": [
    "比较一下In运算符"
   ]
  },
  {
   "cell_type": "code",
   "execution_count": 24,
   "id": "ca1223a1",
   "metadata": {},
   "outputs": [
    {
     "name": "stdout",
     "output_type": "stream",
     "text": [
      "True\n",
      "True\n"
     ]
    }
   ],
   "source": [
    "print (\"A\" in sampleList)\n",
    "print (\"A\" in sampleStr)"
   ]
  },
  {
   "cell_type": "markdown",
   "id": "1fe4cb49",
   "metadata": {},
   "source": [
    "比较一下count方法"
   ]
  },
  {
   "cell_type": "code",
   "execution_count": 25,
   "id": "c3e0c573",
   "metadata": {},
   "outputs": [
    {
     "name": "stdout",
     "output_type": "stream",
     "text": [
      "1\n",
      "1\n"
     ]
    }
   ],
   "source": [
    "print(sampleList.count(\"A\"))\n",
    "print(sampleStr.count(\"A\"))"
   ]
  },
  {
   "cell_type": "markdown",
   "id": "18f4f27d",
   "metadata": {},
   "source": [
    "比较一下reverse方法:\n",
    "在这里两者支持的方法不同。"
   ]
  },
  {
   "cell_type": "code",
   "execution_count": 26,
   "id": "30a04c80",
   "metadata": {
    "scrolled": true
   },
   "outputs": [
    {
     "name": "stdout",
     "output_type": "stream",
     "text": [
      "['C', 'B', 'A']\n",
      "CBA\n"
     ]
    }
   ],
   "source": [
    "sampleList.reverse()\n",
    "print(sampleList)\n",
    "print(\"\".join(reversed(sampleStr)))"
   ]
  },
  {
   "cell_type": "markdown",
   "id": "b777bdfd",
   "metadata": {},
   "source": [
    "python列表的索引调用"
   ]
  },
  {
   "cell_type": "code",
   "execution_count": 27,
   "id": "6191ff0b",
   "metadata": {},
   "outputs": [
    {
     "name": "stdout",
     "output_type": "stream",
     "text": [
      "B\n",
      "B\n",
      "A\n",
      "C\n"
     ]
    }
   ],
   "source": [
    "print(sampleList[1])\n",
    "print(sampleStr[1])\n",
    "print(sampleList[-1])\n",
    "print(sampleStr[-1])"
   ]
  },
  {
   "cell_type": "markdown",
   "id": "fa1b8cca",
   "metadata": {},
   "source": [
    "python列表也支持切片"
   ]
  },
  {
   "cell_type": "code",
   "execution_count": 28,
   "id": "bbbfd9e5",
   "metadata": {},
   "outputs": [
    {
     "name": "stdout",
     "output_type": "stream",
     "text": [
      "['B', 'A']\n",
      "BC\n",
      "['C', 'B']\n",
      "AB\n",
      "['B']\n",
      "B\n",
      "['A', 'B', 'C']\n",
      "CBA\n"
     ]
    }
   ],
   "source": [
    "print(sampleList[1:])\n",
    "print(sampleStr[1:])\n",
    "print(sampleList[:2])\n",
    "print(sampleStr[:2])\n",
    "print(sampleList[1:-1])\n",
    "print(sampleStr[1:-1])\n",
    "print(sampleList[::-1])\n",
    "print(sampleStr[::-1])"
   ]
  },
  {
   "cell_type": "markdown",
   "id": "cb778cf9",
   "metadata": {},
   "source": [
    "# 3 元组和集合"
   ]
  },
  {
   "cell_type": "markdown",
   "id": "48c23a56",
   "metadata": {},
   "source": [
    "## 3.1 元组是不可修改的列表"
   ]
  },
  {
   "cell_type": "code",
   "execution_count": null,
   "id": "02b407f7",
   "metadata": {},
   "outputs": [],
   "source": [
    "T=()\n",
    "T=(1,2,3)"
   ]
  },
  {
   "cell_type": "markdown",
   "id": "e963a1b2",
   "metadata": {},
   "source": [
    "## 3.2 集合是唯一、不变、无序的数据结构"
   ]
  },
  {
   "cell_type": "code",
   "execution_count": null,
   "id": "36e88db3",
   "metadata": {},
   "outputs": [],
   "source": [
    "S=set([1,2,3])"
   ]
  },
  {
   "cell_type": "markdown",
   "id": "e28cdf15",
   "metadata": {},
   "source": [
    "# 4 字典\n",
    "## 4.1 字典的概念与建立"
   ]
  },
  {
   "cell_type": "code",
   "execution_count": 29,
   "id": "57cfd758",
   "metadata": {},
   "outputs": [],
   "source": [
    "D={}\n",
    "D={\"ATG\":\"M\",\"GCU\":\"A\"}"
   ]
  },
  {
   "cell_type": "markdown",
   "id": "6a57fc42",
   "metadata": {},
   "source": [
    "#### 注：实际上，像列表一样，我们极少在程序中手动输入一个字典，字典多来自于文件，从字符串中转换而来。"
   ]
  },
  {
   "cell_type": "markdown",
   "id": "e9c67a0d",
   "metadata": {},
   "source": [
    "## 4.2 从字符串获得信息创建字典"
   ]
  },
  {
   "cell_type": "markdown",
   "id": "c9eb4798",
   "metadata": {},
   "source": [
    "创建字典时一般使用的方式为 字典[键]=值"
   ]
  },
  {
   "cell_type": "code",
   "execution_count": 32,
   "id": "0ef45458",
   "metadata": {},
   "outputs": [
    {
     "name": "stdout",
     "output_type": "stream",
     "text": [
      "{'APC': '1', 'DPYD': '2'}\n"
     ]
    }
   ],
   "source": [
    "Line1=\"APC    1\"\n",
    "Line2=\"DPYD   2\"\n",
    "gene_Exp={}\n",
    "tmp_List=Line1.split()\n",
    "gene_Exp[tmp_List[0]]=tmp_List[1]\n",
    "tmp_List=Line2.split()\n",
    "gene_Exp[tmp_List[0]]=tmp_List[1]\n",
    "print(gene_Exp)"
   ]
  },
  {
   "cell_type": "markdown",
   "id": "383e9a1c",
   "metadata": {},
   "source": [
    "## 4.3 字典的常见操作\n",
    "### 4.3.1 获得字典的key列表"
   ]
  },
  {
   "cell_type": "code",
   "execution_count": 35,
   "id": "f756ccc9",
   "metadata": {},
   "outputs": [
    {
     "name": "stdout",
     "output_type": "stream",
     "text": [
      "['APC', 'DPYD']\n"
     ]
    }
   ],
   "source": [
    "keyList=list(gene_Exp.keys())\n",
    "print(keyList)"
   ]
  },
  {
   "cell_type": "markdown",
   "id": "d0437dea",
   "metadata": {},
   "source": [
    "### 4.3.2 判断键是否存在"
   ]
  },
  {
   "cell_type": "code",
   "execution_count": 36,
   "id": "a2dd584e",
   "metadata": {},
   "outputs": [
    {
     "name": "stdout",
     "output_type": "stream",
     "text": [
      "False\n"
     ]
    }
   ],
   "source": [
    "print(\"MSH6\" in gene_Exp.keys())"
   ]
  },
  {
   "cell_type": "code",
   "execution_count": null,
   "id": "dfae41bf",
   "metadata": {},
   "outputs": [],
   "source": [
    "gene_Exp[\"MSH6\"]  #会出错keyerro  "
   ]
  },
  {
   "cell_type": "code",
   "execution_count": 38,
   "id": "0e00400c",
   "metadata": {},
   "outputs": [
    {
     "name": "stdout",
     "output_type": "stream",
     "text": [
      "1\n",
      "None\n"
     ]
    }
   ],
   "source": [
    "print(gene_Exp.get(\"APC\"))\n",
    "print(gene_Exp.get(\"MSH6\"))"
   ]
  },
  {
   "cell_type": "markdown",
   "id": "98068872",
   "metadata": {},
   "source": [
    "### 4.3.3 字典的增删\n",
    "字典键值对的增加"
   ]
  },
  {
   "cell_type": "code",
   "execution_count": 39,
   "id": "840cea65",
   "metadata": {},
   "outputs": [
    {
     "name": "stdout",
     "output_type": "stream",
     "text": [
      "{'APC': '1', 'DPYD': '2', 'MSH6': 3}\n"
     ]
    }
   ],
   "source": [
    "gene_Exp[\"MSH6\"]=3\n",
    "print(gene_Exp)"
   ]
  },
  {
   "cell_type": "markdown",
   "id": "b04a2883",
   "metadata": {},
   "source": [
    "字典键值对的删除\n"
   ]
  },
  {
   "cell_type": "code",
   "execution_count": null,
   "id": "a633eb6b",
   "metadata": {},
   "outputs": [],
   "source": [
    "del gene_Exp[\"MSH6\"]\n",
    "print(gene_Exp)"
   ]
  },
  {
   "cell_type": "code",
   "execution_count": 40,
   "id": "ea8ee39e",
   "metadata": {},
   "outputs": [
    {
     "name": "stdout",
     "output_type": "stream",
     "text": [
      "3\n",
      "{'APC': '1', 'DPYD': '2'}\n"
     ]
    }
   ],
   "source": [
    "gene_Exp[\"MSH6\"]=3\n",
    "out=gene_Exp.pop(\"MSH6\")\n",
    "print(out)\n",
    "print(gene_Exp)"
   ]
  },
  {
   "cell_type": "markdown",
   "id": "c3017c26",
   "metadata": {},
   "source": [
    "# 5 for 循环\n",
    "## 5.1 理解循环变量\n",
    "for循环每次迭代对象中的一个元素，循环变量在这次循环中存储当前元素的值。\n",
    "for循环又是处理列表和字典的利器，我们的第一个例子就是使用for循环来遍历列表。"
   ]
  },
  {
   "cell_type": "code",
   "execution_count": 41,
   "id": "571512fc",
   "metadata": {},
   "outputs": [
    {
     "name": "stdout",
     "output_type": "stream",
     "text": [
      "APC\n",
      "DPYD\n",
      "MSH2\n",
      "PIK3CA\n",
      "SDHD\n",
      "BMPR1A\n",
      "EPCAM\n",
      "MSH6\n"
     ]
    }
   ],
   "source": [
    "L4=[\"APC\",\"DPYD\",\"MSH2\",\"PIK3CA\",\"SDHD\",\"BMPR1A\",\"EPCAM\",\"MSH6\"]\n",
    "for i in L4:\n",
    "    print(i)"
   ]
  },
  {
   "cell_type": "markdown",
   "id": "0c3b4268",
   "metadata": {},
   "source": [
    "## 5.2 使用for循环遍历字典"
   ]
  },
  {
   "cell_type": "markdown",
   "id": "2abad209",
   "metadata": {},
   "source": [
    "### 5.2.1 基于字典的items方法"
   ]
  },
  {
   "cell_type": "code",
   "execution_count": 42,
   "id": "693c51ba",
   "metadata": {},
   "outputs": [
    {
     "name": "stdout",
     "output_type": "stream",
     "text": [
      "ATG M\n",
      "GCU A\n",
      "GCA B\n",
      "GCG B\n"
     ]
    }
   ],
   "source": [
    "D={\"ATG\":\"M\",\"GCU\":\"A\",\"GCA\":\"B\",\"GCG\":\"B\"}\n",
    "for k,v in D.items():\n",
    "    print(k,v)"
   ]
  },
  {
   "cell_type": "markdown",
   "id": "7aaed64e",
   "metadata": {},
   "source": [
    "### 5.2.2 基于字典的keys方法"
   ]
  },
  {
   "cell_type": "code",
   "execution_count": 43,
   "id": "19d806d2",
   "metadata": {},
   "outputs": [
    {
     "name": "stdout",
     "output_type": "stream",
     "text": [
      "ATG M\n",
      "GCU A\n",
      "GCA B\n",
      "GCG B\n"
     ]
    }
   ],
   "source": [
    "D={\"ATG\":\"M\",\"GCU\":\"A\",\"GCA\":\"B\",\"GCG\":\"B\"}\n",
    "for k in D.keys():\n",
    "    print(k,D[k])"
   ]
  },
  {
   "cell_type": "markdown",
   "id": "aac7e27e",
   "metadata": {},
   "source": [
    "### 5.2.3 使用for循环构建需要的数据结构\n",
    "| 基因 | 表达量 |\n",
    "| --  | -- |\n",
    "| APC | 2 |\n",
    "| DPYD |2.2 |\n",
    "| MSH2 | 5 |\n",
    "| PIK3CA | 1 |\n",
    "| SDHD | 6 |\n",
    "| BMPR1A |1.1|\n",
    "| EPCAM | 0.99|\n",
    "| MSH6 | 3 |\n",
    "\n",
    "for 循环也是最常用的读取文件的方法之一。文件通过for 循环被逐行读入python，使用字符串的处理方法变换成合适的数据结构，比如数组或者字典，然后用于后续的算法处理。"
   ]
  },
  {
   "cell_type": "code",
   "execution_count": 44,
   "id": "5ae36f0f",
   "metadata": {},
   "outputs": [
    {
     "name": "stdout",
     "output_type": "stream",
     "text": [
      "{'APC': '2', 'DPYD': '2.2', 'MSH2': '5', 'PIK3CA': '1', 'SDHD': '6', 'BMPR1A': '1.1', 'EPCAM': '0.99', 'MSH6': '3'}\n"
     ]
    }
   ],
   "source": [
    "LF=[\"APC 2\",\"DPYD 2.2\",\"MSH2 5\",\"PIK3CA 1\",\"SDHD 6\",\"BMPR1A 1.1\",\"EPCAM 0.99\",\"MSH6 3\"]\n",
    "gene_Exp={}\n",
    "for i in LF:\n",
    "    tmpList=i.split()\n",
    "    gene_Exp[tmpList[0]]=tmpList[1]\n",
    "print(gene_Exp)"
   ]
  },
  {
   "cell_type": "markdown",
   "id": "e1fe904f",
   "metadata": {},
   "source": [
    "## 5.3 嵌套的for循环\n",
    "### 5.3.1 简单实例\n",
    "使用嵌套for循环遍历两个序列"
   ]
  },
  {
   "cell_type": "code",
   "execution_count": 46,
   "id": "4b7447ac",
   "metadata": {},
   "outputs": [
    {
     "name": "stdout",
     "output_type": "stream",
     "text": [
      "开始bian'li\n",
      "A A\n",
      "A G\n",
      "A C\n",
      "A A\n",
      "开始bian'li\n",
      "G A\n",
      "G G\n",
      "G C\n",
      "G A\n",
      "开始bian'li\n",
      "T A\n",
      "T G\n",
      "T C\n",
      "T A\n",
      "开始bian'li\n",
      "A A\n",
      "A G\n",
      "A C\n",
      "A A\n"
     ]
    }
   ],
   "source": [
    "seq1=\"AGTA\"\n",
    "seq2=\"AGCA\"\n",
    "for i in seq1:\n",
    "    print(\"开始bian'li\")\n",
    "    for j in seq2:\n",
    "        print(i,j)"
   ]
  },
  {
   "cell_type": "markdown",
   "id": "dafe2956",
   "metadata": {},
   "source": [
    "生物信息序列比对，动态规划方法是非常重要的一个方法，而这个方法的第一步就是要构建一个打分矩阵。打分矩阵的示例可以参考PPT。我们尝试一下如何用两条序列构建一个打分矩阵。在这个过程中，很重要的一点就是使用嵌套的for循环。鉴于目前的介绍中条件判断语句还没有登场，我们先把所有序列匹配的得分都计为0。\n",
    "\n",
    "本示例重要的知识点：\n",
    "* for循环遍历字符串\n",
    "* 感受嵌套for循环\n",
    "* 在for循环中整理输出字符串的技巧\n",
    "* 变量在循环中的值变化情况\n"
   ]
  },
  {
   "cell_type": "code",
   "execution_count": 47,
   "id": "8be25820",
   "metadata": {},
   "outputs": [
    {
     "name": "stdout",
     "output_type": "stream",
     "text": [
      "\tA\tG\tT\tA\tG\tG\tT\tG\tG\tT\tT\tG\tA\tC\tA\tG\n",
      "A\t0\t0\t0\t0\t0\t0\t0\t0\t0\t0\t0\t0\t0\t0\t0\t0\n",
      "G\t0\t0\t0\t0\t0\t0\t0\t0\t0\t0\t0\t0\t0\t0\t0\t0\n",
      "C\t0\t0\t0\t0\t0\t0\t0\t0\t0\t0\t0\t0\t0\t0\t0\t0\n",
      "A\t0\t0\t0\t0\t0\t0\t0\t0\t0\t0\t0\t0\t0\t0\t0\t0\n",
      "G\t0\t0\t0\t0\t0\t0\t0\t0\t0\t0\t0\t0\t0\t0\t0\t0\n",
      "A\t0\t0\t0\t0\t0\t0\t0\t0\t0\t0\t0\t0\t0\t0\t0\t0\n",
      "T\t0\t0\t0\t0\t0\t0\t0\t0\t0\t0\t0\t0\t0\t0\t0\t0\n",
      "T\t0\t0\t0\t0\t0\t0\t0\t0\t0\t0\t0\t0\t0\t0\t0\t0\n",
      "G\t0\t0\t0\t0\t0\t0\t0\t0\t0\t0\t0\t0\t0\t0\t0\t0\n",
      "T\t0\t0\t0\t0\t0\t0\t0\t0\t0\t0\t0\t0\t0\t0\t0\t0\n",
      "G\t0\t0\t0\t0\t0\t0\t0\t0\t0\t0\t0\t0\t0\t0\t0\t0\n",
      "G\t0\t0\t0\t0\t0\t0\t0\t0\t0\t0\t0\t0\t0\t0\t0\t0\n",
      "A\t0\t0\t0\t0\t0\t0\t0\t0\t0\t0\t0\t0\t0\t0\t0\t0\n",
      "C\t0\t0\t0\t0\t0\t0\t0\t0\t0\t0\t0\t0\t0\t0\t0\t0\n",
      "A\t0\t0\t0\t0\t0\t0\t0\t0\t0\t0\t0\t0\t0\t0\t0\t0\n",
      "G\t0\t0\t0\t0\t0\t0\t0\t0\t0\t0\t0\t0\t0\t0\t0\t0\n"
     ]
    }
   ],
   "source": [
    "seq1=\"AGTAGGTGGTTGACAG\"\n",
    "seq2=\"AGCAGATTGTGGACAG\"\n",
    "header=\"\\t\"+\"\\t\".join(list(seq1))\n",
    "print(header)\n",
    "for i in seq2:\n",
    "    line=i\n",
    "    for j in seq1:\n",
    "        line=line+\"\\t0\"\n",
    "    print(line)"
   ]
  },
  {
   "cell_type": "markdown",
   "id": "b93bdc83",
   "metadata": {},
   "source": [
    "对于指定次数的循环，使用for和arrange是最常用的方式"
   ]
  },
  {
   "cell_type": "code",
   "execution_count": 50,
   "id": "b76e5cfc",
   "metadata": {},
   "outputs": [
    {
     "name": "stdout",
     "output_type": "stream",
     "text": [
      "0\n",
      "1\n",
      "2\n",
      "3\n",
      "4\n"
     ]
    }
   ],
   "source": [
    "for i in range(5):\n",
    "    print(i)"
   ]
  },
  {
   "cell_type": "code",
   "execution_count": 51,
   "id": "789b772a",
   "metadata": {},
   "outputs": [
    {
     "name": "stdout",
     "output_type": "stream",
     "text": [
      "2\n",
      "3\n",
      "4\n"
     ]
    }
   ],
   "source": [
    "for i in range(2,5):\n",
    "    print(i)"
   ]
  },
  {
   "cell_type": "markdown",
   "id": "646b049d",
   "metadata": {},
   "source": [
    "# 6 while 循环（不重要）"
   ]
  },
  {
   "cell_type": "code",
   "execution_count": null,
   "id": "03abe2d8",
   "metadata": {},
   "outputs": [],
   "source": [
    "import time\n",
    "\n",
    "while 2>1:\n",
    "    print(\"我的程序还在工作\")\n",
    "    time.sleep(2)"
   ]
  },
  {
   "cell_type": "markdown",
   "id": "9daf1819",
   "metadata": {},
   "source": [
    "# 7 课后练习：对两个数字型的列表求和\n",
    "L1=[1,2,9]\n",
    "L2=[5,6,2]"
   ]
  }
 ],
 "metadata": {
  "kernelspec": {
   "display_name": "Python 3 (ipykernel)",
   "language": "python",
   "name": "python3"
  },
  "language_info": {
   "codemirror_mode": {
    "name": "ipython",
    "version": 3
   },
   "file_extension": ".py",
   "mimetype": "text/x-python",
   "name": "python",
   "nbconvert_exporter": "python",
   "pygments_lexer": "ipython3",
   "version": "3.12.0"
  }
 },
 "nbformat": 4,
 "nbformat_minor": 5
}
